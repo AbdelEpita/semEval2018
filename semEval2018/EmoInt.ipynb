
import re
import nltk
from nltk.tokenize import TweetTokenizer
from nltk import word_tokenize, pos_tag
from nltk.stem import WordNetLemmatizer
from nltk.corpus import stopwords
import pandas as pd
import numpy as np
import sys 
from sklearn.feature_extraction.text import TfidfVectorizer, CountVectorizer
